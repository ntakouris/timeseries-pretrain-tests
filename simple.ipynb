{
 "metadata": {
  "language_info": {
   "codemirror_mode": {
    "name": "ipython",
    "version": 3
   },
   "file_extension": ".py",
   "mimetype": "text/x-python",
   "name": "python",
   "nbconvert_exporter": "python",
   "pygments_lexer": "ipython3",
   "version": "3.7.9"
  },
  "orig_nbformat": 4,
  "kernelspec": {
   "name": "python3",
   "display_name": "Python 3.7.9 64-bit"
  },
  "interpreter": {
   "hash": "aee8b7b246df8f9039afb4144a1f6fd8d2ca17a180786b69acc140d282b71a49"
  }
 },
 "nbformat": 4,
 "nbformat_minor": 2,
 "cells": [
  {
   "cell_type": "code",
   "execution_count": 1,
   "metadata": {},
   "outputs": [],
   "source": [
    "from loader import load_classification_dataset\n",
    "from simple_train import train_evaluate\n",
    "from pretrain import pretrain_finetune_evaluate\n",
    "\n",
    "import tensorflow.keras as keras\n",
    "import numpy as np"
   ]
  },
  {
   "cell_type": "code",
   "execution_count": 2,
   "metadata": {},
   "outputs": [],
   "source": [
    "ds_path = os.path.join(os.getcwd(), 'datasets')"
   ]
  },
  {
   "cell_type": "code",
   "execution_count": 3,
   "metadata": {},
   "outputs": [],
   "source": [
    "LSTM_UNITS = 64\n",
    "\n",
    "def print_results(r):\n",
    "    train_result, eval_result = r\n",
    "    print(f'Train | Loss: {train_result[0]:.2f} - Acc: {train_result[1]:.2f}')\n",
    "    print(f'Eval  | Loss: {eval_result[0]:.2f} - Acc: {eval_result[1]:.2f}')\n",
    "\n",
    "def print_accs(r):\n",
    "    r = np.array(r)\n",
    "    m = np.mean(r)\n",
    "    std = np.std(r)\n",
    "\n",
    "    print(f'Accuracy | Mean: {m:.2f} - Std: {std:.2f}')"
   ]
  },
  {
   "cell_type": "code",
   "execution_count": 4,
   "metadata": {},
   "outputs": [],
   "source": [
    "def lstm_trunk(x):\n",
    "    return keras.layers.LSTM(LSTM_UNITS)(x)"
   ]
  },
  {
   "cell_type": "code",
   "execution_count": 5,
   "metadata": {},
   "outputs": [],
   "source": [
    "def lstm_autoencoder(input_x):\n",
    "    x = keras.layers.LSTM(LSTM_UNITS, name='trunk')(input_x)\n",
    "\n",
    "    x = keras.layers.RepeatVector(input_x.shape[1])(x)\n",
    "\n",
    "    x = keras.layers.LSTM(LSTM_UNITS, return_sequences=True)(x)\n",
    "\n",
    "    return keras.layers.TimeDistributed(keras.layers.Dense(input_x.shape[-1]))(x)"
   ]
  },
  {
   "cell_type": "code",
   "execution_count": 6,
   "metadata": {},
   "outputs": [
    {
     "output_type": "stream",
     "name": "stderr",
     "text": [
      "0it [00:00, ?it/s]--- Dataset: BasicMotions\n",
      "\n",
      "Simple Train >\n",
      "5it [02:15, 27.11s/it]\n",
      "Accuracy | Mean: 0.65 - Std: 0.14\n",
      "\n",
      "Pretrain and Fine Tune>\n",
      "Train | Loss: 1.43 - Acc: 0.12\n",
      "Eval  | Loss: 1.28 - Acc: 0.47\n",
      "\n",
      "\n"
     ]
    }
   ],
   "source": [
    "#for ds_name in os.listdir(ds_path):\n",
    "for ds_name in ['BasicMotions']:\n",
    "    ds_load_result = load_classification_dataset(ds_path, ds_name)\n",
    "    print(f'--- Dataset: {ds_name}')\n",
    "    print()\n",
    "    print(f'Simple Train >')\n",
    "    r = train_evaluate(ds_load_result=ds_load_result, trunk=lstm_trunk)\n",
    "    print_accs(r)\n",
    "\n",
    "    print()\n",
    "    print(f'Pretrain and Fine Tune>')\n",
    "\n",
    "    r = pretrain_finetune_evaluate(ds_load_result=ds_load_result,pretrain_model=lstm_autoencoder)\n",
    "    print_acc(r)\n",
    "    print()\n",
    "    print()"
   ]
  },
  {
   "cell_type": "code",
   "execution_count": null,
   "metadata": {},
   "outputs": [],
   "source": []
  }
 ]
}