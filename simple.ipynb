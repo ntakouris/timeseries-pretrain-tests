{
 "metadata": {
  "language_info": {
   "codemirror_mode": {
    "name": "ipython",
    "version": 3
   },
   "file_extension": ".py",
   "mimetype": "text/x-python",
   "name": "python",
   "nbconvert_exporter": "python",
   "pygments_lexer": "ipython3",
   "version": "3.7.9"
  },
  "orig_nbformat": 4,
  "kernelspec": {
   "name": "python3",
   "display_name": "Python 3.7.9 64-bit"
  },
  "interpreter": {
   "hash": "aee8b7b246df8f9039afb4144a1f6fd8d2ca17a180786b69acc140d282b71a49"
  }
 },
 "nbformat": 4,
 "nbformat_minor": 2,
 "cells": [
  {
   "cell_type": "code",
   "execution_count": 1,
   "metadata": {},
   "outputs": [],
   "source": [
    "from loader import load_classification_dataset\n",
    "from simple_train import train_evaluate\n",
    "from pretrain import pretrain_finetune_evaluate\n",
    "\n",
    "import tensorflow.keras as keras\n",
    "import numpy as np\n",
    "from sklearn.model_selection import train_test_split"
   ]
  },
  {
   "cell_type": "code",
   "execution_count": 2,
   "metadata": {},
   "outputs": [],
   "source": [
    "ds_path = os.path.join(os.getcwd(), 'datasets')"
   ]
  },
  {
   "cell_type": "code",
   "execution_count": 3,
   "metadata": {},
   "outputs": [],
   "source": [
    "LSTM_UNITS = 16\n",
    "LSTM_LAYERS = 1\n",
    "\n",
    "MLP = [16, 8]\n",
    "\n",
    "ACT = 'swish'\n",
    "\n",
    "def print_results(r):\n",
    "    train_result, eval_result = r\n",
    "    print(f'Train | Loss: {train_result[0]:.2f} - Acc: {train_result[1]:.2f}')\n",
    "    print(f'Eval  | Loss: {eval_result[0]:.2f} - Acc: {eval_result[1]:.2f}')\n",
    "\n",
    "def print_accs(r):\n",
    "    r = np.array(r)\n",
    "    m = np.mean(r)\n",
    "    std = np.std(r)\n",
    "    print()\n",
    "    print(f'Accuracy | Mean: {m:.2f} - Std: {std:.2f} | Max: {np.max(r):.2f}')"
   ]
  },
  {
   "cell_type": "code",
   "execution_count": 4,
   "metadata": {},
   "outputs": [],
   "source": [
    "def lstm_trunk(x):\n",
    "    for _ in range(LSTM_LAYERS-1):\n",
    "        x = keras.layers.LSTM(LSTM_UNITS, return_sequences=True)(x)\n",
    "\n",
    "    x = keras.layers.LSTM(LSTM_UNITS)(x)\n",
    "\n",
    "    for d in MLP:\n",
    "        x = keras.layers.Dense(d, activation=ACT)(x)\n",
    "\n",
    "    return x"
   ]
  },
  {
   "cell_type": "code",
   "execution_count": 5,
   "metadata": {},
   "outputs": [],
   "source": [
    "def lstm_autoencoder(input_x):\n",
    "    x = input_x\n",
    "    for _ in range(LSTM_LAYERS-1):\n",
    "        x = keras.layers.LSTM(LSTM_UNITS, return_sequences=True)(x)\n",
    "\n",
    "    x = keras.layers.LSTM(LSTM_UNITS, name='trunk')(input_x)\n",
    "\n",
    "    x = keras.layers.RepeatVector(input_x.shape[1])(x)\n",
    "\n",
    "    for _ in range(LSTM_LAYERS):\n",
    "        x = keras.layers.LSTM(LSTM_UNITS, return_sequences=True)(x)\n",
    "\n",
    "    _mlp_dim = input_x.shape[-1]\n",
    "    for _ in range(len(MLP)-1):\n",
    "        x = keras.layers.TimeDistributed(keras.layers.Dense(_mlp_dim, activation=ACT))(x)\n",
    "\n",
    "    return keras.layers.TimeDistributed(keras.layers.Dense(input_x.shape[-1]))(x)"
   ]
  },
  {
   "cell_type": "code",
   "execution_count": 8,
   "metadata": {
    "tags": []
   },
   "outputs": [
    {
     "output_type": "stream",
     "name": "stdout",
     "text": [
      "--- Dataset: UWaveGestureLibrary\n",
      "\n",
      "Simple Train >\n",
      "\n",
      "\n",
      "Accuracy | Mean: 0.73 - Std: 0.00 | Max: 0.73\n",
      "Pretrain and Fine Tune >\n",
      "\n",
      "Accuracy | Mean: 0.95 - Std: 0.00 | Max: 0.95\n",
      "\n",
      "\n"
     ]
    }
   ],
   "source": [
    "epochs=200\n",
    "verbose=0\n",
    "\n",
    "pretrain_model = lstm_autoencoder\n",
    "\n",
    "#for ds_name in os.listdir(ds_path):\n",
    "for ds_name in ['UWaveGestureLibrary']:\n",
    "    print(f'--- Dataset: {ds_name}')\n",
    "    print()\n",
    "\n",
    "    ds_load_result = load_classification_dataset(ds_path, ds_name)\n",
    "    train_ds, test_ds, preprocessing_layer, label_encoder = ds_load_result\n",
    "\n",
    "    _x_train, _y_train = train_ds\n",
    "    x_test, y_test = test_ds\n",
    "\n",
    "    _x_train = preprocessing_layer(_x_train).numpy()\n",
    "    x_test = preprocessing_layer(x_test).numpy()\n",
    "\n",
    "    x_train, x_val, y_train, y_val = train_test_split(\n",
    "    _x_train, _y_train, test_size=0.2, random_state=42, shuffle=True)\n",
    "\n",
    "    n_classes = len(label_encoder.classes_)\n",
    "\n",
    "    print(f'Simple Train >')\n",
    "    print()\n",
    "\n",
    "    r = train_evaluate(x_train, y_train, x_val, y_val, x_test, y_test, n_classes, trunk=lstm_trunk, verbose=verbose)\n",
    "\n",
    "    print_accs(r)\n",
    "\n",
    "    print(f'Pretrain and Fine Tune >')\n",
    "\n",
    "    r = pretrain_finetune_evaluate(x_train, y_train, x_val, y_val, x_test, y_test, n_classes, pretrain_model=lstm_autoencoder, verbose=verbose)\n",
    "\n",
    "    print_accs(r)\n",
    "\n",
    "    print()\n",
    "    print()"
   ]
  },
  {
   "cell_type": "code",
   "execution_count": null,
   "metadata": {},
   "outputs": [],
   "source": []
  }
 ]
}