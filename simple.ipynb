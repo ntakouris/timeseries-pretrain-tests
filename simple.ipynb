{
 "metadata": {
  "language_info": {
   "codemirror_mode": {
    "name": "ipython",
    "version": 3
   },
   "file_extension": ".py",
   "mimetype": "text/x-python",
   "name": "python",
   "nbconvert_exporter": "python",
   "pygments_lexer": "ipython3",
   "version": "3.7.9"
  },
  "orig_nbformat": 4,
  "kernelspec": {
   "name": "python3",
   "display_name": "Python 3.7.9 64-bit"
  },
  "interpreter": {
   "hash": "aee8b7b246df8f9039afb4144a1f6fd8d2ca17a180786b69acc140d282b71a49"
  }
 },
 "nbformat": 4,
 "nbformat_minor": 2,
 "cells": [
  {
   "cell_type": "code",
   "execution_count": 1,
   "metadata": {},
   "outputs": [],
   "source": [
    "from loader import load_classification_dataset\n",
    "import simple_train, autoencoder_pretrain, configurator\n",
    "\n",
    "import tensorflow.keras as keras\n",
    "import numpy as np\n",
    "from sklearn.model_selection import train_test_split\n",
    "\n",
    "from functools import partial\n",
    "\n",
    "ds_path = os.path.join(os.getcwd(), 'datasets')"
   ]
  },
  {
   "cell_type": "code",
   "execution_count": 2,
   "metadata": {},
   "outputs": [],
   "source": [
    "def print_accs(r):\n",
    "    r = np.array(r)\n",
    "    m = np.mean(r)\n",
    "    std = np.std(r)\n",
    "    print()\n",
    "    print(f'Accuracy | Mean: {m:.2f} - Std: {std:.2f} | Max: {np.max(r):.2f}')"
   ]
  },
  {
   "cell_type": "code",
   "execution_count": 7,
   "metadata": {
    "tags": []
   },
   "outputs": [
    {
     "output_type": "stream",
     "name": "stdout",
     "text": [
      "--- Dataset: UWaveGestureLibrary\n",
      "\n",
      "Simple Train >\n",
      "\n",
      "\n",
      "Accuracy | Mean: 0.82 - Std: 0.00 | Max: 0.82\n",
      "Pretrain and Fine Tune >\n",
      "\n",
      "Accuracy | Mean: 0.75 - Std: 0.00 | Max: 0.75\n",
      "\n",
      "\n"
     ]
    }
   ],
   "source": [
    "epochs = 200\n",
    "verbose = 0\n",
    "\n",
    "train_model, pretrain_model = next(iter(configurator.lstm_models()))\n",
    "\n",
    "#for ds_name in os.listdir(ds_path):\n",
    "for ds_name in ['UWaveGestureLibrary']:\n",
    "    print(f'--- Dataset: {ds_name}')\n",
    "    print()\n",
    "\n",
    "    ds_load_result = load_classification_dataset(ds_path, ds_name)\n",
    "    train_ds, test_ds, preprocessing_layer, label_encoder = ds_load_result\n",
    "\n",
    "    _x_train, _y_train = train_ds\n",
    "    x_test, y_test = test_ds\n",
    "\n",
    "    _x_train = preprocessing_layer(_x_train).numpy()\n",
    "    x_test = preprocessing_layer(x_test).numpy()\n",
    "\n",
    "    _y_train = label_encoder.transform(_y_train)\n",
    "    y_test = label_encoder.transform(y_test)\n",
    "\n",
    "    x_train, x_val, y_train, y_val = train_test_split(\n",
    "    _x_train, _y_train, test_size = 0.2, random_state = 42, shuffle=True)\n",
    "\n",
    "    n_classes = len(label_encoder.classes_)\n",
    "\n",
    "    print(f'Simple Train >')\n",
    "    print()\n",
    "\n",
    "    r = simple_train.train_evaluate(x_train, y_train, x_val, y_val, x_test, y_test, n_classes, model=train_model, verbose=verbose)\n",
    "\n",
    "    print_accs(r)\n",
    "\n",
    "    print(f'Pretrain and Fine Tune >')\n",
    "\n",
    "    r = autoencoder_pretrain.train_evaluate(x_train, y_train, x_val, y_val, x_test, y_test, n_classes, model=pretrain_model, verbose=verbose)\n",
    "\n",
    "    print_accs(r)\n",
    "\n",
    "    print()\n",
    "    print()"
   ]
  }
 ]
}